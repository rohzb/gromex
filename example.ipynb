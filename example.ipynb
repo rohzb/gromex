{
 "cells": [
  {
   "cell_type": "code",
   "execution_count": 45,
   "metadata": {},
   "outputs": [],
   "source": [
    "# Import the GrommunioCalendars class from the module \"gromex\"\n",
    "from gromex import GrommunioCalendars\n",
    "\n",
    "# Step 1: Create an instance of the GrommunioCalendars class.\n",
    "# We're using autoconnect=False, meaning the connection to the CalDAV server\n",
    "# won't be initiated automatically upon creation of the instance.\n",
    "# Replace 'ovsyannikov@helmholtz-berlin.de' with your actual username.\n",
    "grommunio = GrommunioCalendars(username=\"ovsyannikov@helmholtz-berlin.de\")\n"
   ]
  },
  {
   "cell_type": "code",
   "execution_count": null,
   "metadata": {},
   "outputs": [],
   "source": [
    "# Step 2: Export all calendars.\n",
    "# The 'export' method will save the calendar data to the specified directory ('local/cals/').\n",
    "# By default, it saves only the combined calendar (.ics) for each calendar in the system.\n",
    "# If you want to save individual event files, you can pass `save_single_events=True` as an additional argument.\n",
    "grommunio.export(path='local/cals/')"
   ]
  }
 ],
 "metadata": {
  "kernelspec": {
   "display_name": ".venv",
   "language": "python",
   "name": "python3"
  },
  "language_info": {
   "codemirror_mode": {
    "name": "ipython",
    "version": 3
   },
   "file_extension": ".py",
   "mimetype": "text/x-python",
   "name": "python",
   "nbconvert_exporter": "python",
   "pygments_lexer": "ipython3",
   "version": "3.10.12"
  }
 },
 "nbformat": 4,
 "nbformat_minor": 2
}
